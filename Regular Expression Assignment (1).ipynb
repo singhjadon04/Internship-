{
 "cells": [
  {
   "cell_type": "code",
   "execution_count": 46,
   "id": "57bf25e1",
   "metadata": {},
   "outputs": [
    {
     "name": "stdout",
     "output_type": "stream",
     "text": [
      "Python:Exercises::PHP:exercises:\n"
     ]
    }
   ],
   "source": [
    "# Sample text-1\n",
    "text = 'Python Exercises, PHP exercises.'\n",
    "\n",
    "# Replace space, comma, and dot with a colon\n",
    "result = text.replace(' ', ':').replace(',', ':').replace('.', ':')\n",
    "print(result)\n"
   ]
  },
  {
   "cell_type": "code",
   "execution_count": 48,
   "id": "1d093a20",
   "metadata": {},
   "outputs": [
    {
     "name": "stdout",
     "output_type": "stream",
     "text": [
      "Words starting with 'a' or 'e': ['Apple', 'an', 'amazing', 'Elephants', 'are', 'enormous']\n"
     ]
    }
   ],
   "source": [
    "# Sample text-\n",
    "import re\n",
    "\n",
    "def find_words_starting_with_a_or_e(input_string):\n",
    "    # Split the input string into words using regular expression\n",
    "    words = re.findall(r'\\b\\w+\\b', input_string)\n",
    "    \n",
    "   \n",
    "    result = []\n",
    "    for word in words:\n",
    "        if word[0].lower() in ['a', 'e']:\n",
    "            result.append(word)\n",
    "    \n",
    "    return result\n",
    "\n",
    "# Input string\n",
    "input_string = \"Apple is an amazing fruit. Elephants are enormous.\"\n",
    "\n",
    "words_starting_with_a_or_e = find_words_starting_with_a_or_e(input_string)\n",
    "print(\"Words starting with 'a' or 'e':\", words_starting_with_a_or_e)\n",
    "\n",
    "\n"
   ]
  },
  {
   "cell_type": "code",
   "execution_count": 49,
   "id": "920d666f",
   "metadata": {},
   "outputs": [
    {
     "name": "stdout",
     "output_type": "stream",
     "text": [
      "Words at least 4 characters long: ['This', 'sample', 'string', 'with', 'some', 'words', 'different', 'lengths']\n"
     ]
    }
   ],
   "source": [
    "# Sample text-3\n",
    "import re\n",
    "\n",
    "def find_words_at_least_4_characters(input_string):\n",
    "    pattern = re.compile(r'\\b\\w{4,}\\b')\n",
    "    \n",
    "    \n",
    "    words = pattern.findall(input_string)\n",
    "    \n",
    "    return words\n",
    "\n",
    "\n",
    "input_string = \"This is a sample string with some words of different lengths.\"\n",
    "\n",
    "result = find_words_at_least_4_characters(input_string)\n",
    "\n",
    "print(\"Words at least 4 characters long:\", result)\n"
   ]
  },
  {
   "cell_type": "code",
   "execution_count": 50,
   "id": "72071d44",
   "metadata": {},
   "outputs": [
    {
     "name": "stdout",
     "output_type": "stream",
     "text": [
      "Words of lengths 3, 4, and 5 characters: ['This', 'with', 'some', 'words']\n"
     ]
    }
   ],
   "source": [
    "# Sample text-4\n",
    "import re\n",
    "\n",
    "def find_words_of_lengths(input_string):\n",
    "   \n",
    "    pattern = re.compile(r'\\b\\w{3,5}\\b')\n",
    "    \n",
    "    words = pattern.findall(input_string)\n",
    "    \n",
    "    return words\n",
    "\n",
    "input_string = \"This is a sample string with some words of various lengths.\"\n",
    "\n",
    "result = find_words_of_lengths(input_string)\n",
    "\n",
    "print(\"Words of lengths 3, 4, and 5 characters:\", result)\n"
   ]
  },
  {
   "cell_type": "code",
   "execution_count": 51,
   "id": "b56048cc",
   "metadata": {},
   "outputs": [
    {
     "name": "stdout",
     "output_type": "stream",
     "text": [
      "example \n",
      "hr@fliprobo \n",
      "github \n",
      "Hello \n",
      "Data \n"
     ]
    }
   ],
   "source": [
    "# Sample text-5\n",
    "import re\n",
    "\n",
    "def remove_parentheses(strings):\n",
    "    # Define a regular expression pattern to match parentheses and their contents\n",
    "    pattern = re.compile(r'\\([^)]*\\)')\n",
    "    \n",
    "    result = []\n",
    "  \n",
    "    for string in strings:\n",
    "       \n",
    "        cleaned_string = pattern.sub('', string)\n",
    "        result.append(cleaned_string)\n",
    "    \n",
    "    return result\n",
    "\n",
    "sample_text = [\"example (.com)\", \"hr@fliprobo (.com)\", \"github (.com)\", \"Hello (Data Science World)\", \"Data (Scientist)\"]\n",
    "\n",
    "result = remove_parentheses(sample_text)\n",
    "\n",
    "for cleaned_string in result:\n",
    "    print(cleaned_string)\n"
   ]
  },
  {
   "cell_type": "code",
   "execution_count": 52,
   "id": "2231c72e",
   "metadata": {},
   "outputs": [
    {
     "name": "stdout",
     "output_type": "stream",
     "text": [
      "File 'sample_text.txt' not found.\n"
     ]
    }
   ],
   "source": [
    "# Sample text-6\n",
    "import re\n",
    "\n",
    "\n",
    "def remove_parentheses(text):\n",
    "    pattern = re.compile(r'\\([^)]*\\)')\n",
    "    cleaned_text = pattern.sub('', text)\n",
    "    \n",
    "    return cleaned_text\n",
    "\n",
    "# Read text from the file\n",
    "file_path = \"sample_text.txt\"\n",
    "\n",
    "try:\n",
    "    with open(file_path, \"r\") as file:\n",
    "        original_text = file.read()\n",
    "    modified_text = remove_parentheses(original_text)\n",
    "\n",
    "    with open(file_path, \"w\") as file:\n",
    "        file.write(modified_text)\n",
    "\n",
    "    print(\"Parentheses removed and updated in the file.\")\n",
    "\n",
    "except FileNotFoundError:\n",
    "    print(f\"File '{file_path}' not found.\")\n",
    "except Exception as e:\n",
    "    print(\"An error occurred:\", str(e))\n"
   ]
  },
  {
   "cell_type": "code",
   "execution_count": 11,
   "id": "57ce27ba",
   "metadata": {},
   "outputs": [
    {
     "name": "stdout",
     "output_type": "stream",
     "text": [
      "['I', 'O', 'R', 'E', 'I', 'P']\n"
     ]
    }
   ],
   "source": [
    "# Sample text-7\n",
    "import re\n",
    "\n",
    "sample_text = \"ImportanceOfRegularExpressionsInPython\"\n",
    "uppercase_letters = re.findall(r'[A-Z]', sample_text)\n",
    "\n",
    "print(uppercase_letters)\n"
   ]
  },
  {
   "cell_type": "code",
   "execution_count": 53,
   "id": "fb25cdf9",
   "metadata": {},
   "outputs": [
    {
     "name": "stdout",
     "output_type": "stream",
     "text": [
      "RegularExpression 1IsAn 2ImportantTopic 3InPython\n"
     ]
    }
   ],
   "source": [
    "# Sample text-8\n",
    "\n",
    "\n",
    "import re\n",
    "def insert_spaces_before_numbers(text):\n",
    "  \n",
    "    pattern = re.compile(r'(?<=[a-zA-Z])(?=\\d)')\n",
    "    modified_text = pattern.sub(' ', text)\n",
    "    \n",
    "    return modified_text\n",
    "\n",
    "\n",
    "sample_text = \"RegularExpression1IsAn2ImportantTopic3InPython\"\n",
    "\n",
    "result_text = insert_spaces_before_numbers(sample_text)\n",
    "print(result_text)\n"
   ]
  },
  {
   "cell_type": "code",
   "execution_count": 54,
   "id": "b086591e",
   "metadata": {},
   "outputs": [
    {
     "name": "stdout",
     "output_type": "stream",
     "text": [
      "Regular Expression 1 Is An 2 Important Topic 3 In Python\n"
     ]
    }
   ],
   "source": [
    "# Sample text-9\n",
    "import re\n",
    "\n",
    "def insert_spaces(text): \n",
    "    pattern = re.compile(r'(?<=[a-z])(?=[A-Z0-9])|(?<=[A-Z])(?=[A-Z][a-z0-9])|(?<=\\d)(?=\\D)|(?<=\\D)(?=\\d)')\n",
    "    \n",
    "    modified_text = pattern.sub(' ', text)\n",
    "    \n",
    "    return modified_text\n",
    "\n",
    "sample_text = \"RegularExpression1IsAn2ImportantTopic3InPython\"\n",
    "\n",
    "result_text = insert_spaces(sample_text)\n",
    "\n",
    "print(result_text)"
   ]
  },
  {
   "cell_type": "code",
   "execution_count": 55,
   "id": "91f62017",
   "metadata": {},
   "outputs": [
    {
     "name": "stdout",
     "output_type": "stream",
     "text": [
      "File 'sample_text.txt' not found.\n",
      "Extracted email addresses:\n"
     ]
    },
    {
     "ename": "TypeError",
     "evalue": "'NoneType' object is not iterable",
     "output_type": "error",
     "traceback": [
      "\u001b[1;31m---------------------------------------------------------------------------\u001b[0m",
      "\u001b[1;31mTypeError\u001b[0m                                 Traceback (most recent call last)",
      "Input \u001b[1;32mIn [55]\u001b[0m, in \u001b[0;36m<cell line: 26>\u001b[1;34m()\u001b[0m\n\u001b[0;32m     24\u001b[0m extracted_emails \u001b[38;5;241m=\u001b[39m extract_emails_from_file(file_path)\n\u001b[0;32m     25\u001b[0m \u001b[38;5;28mprint\u001b[39m(\u001b[38;5;124m\"\u001b[39m\u001b[38;5;124mExtracted email addresses:\u001b[39m\u001b[38;5;124m\"\u001b[39m)\n\u001b[1;32m---> 26\u001b[0m \u001b[38;5;28;01mfor\u001b[39;00m email \u001b[38;5;129;01min\u001b[39;00m extracted_emails:\n\u001b[0;32m     27\u001b[0m     \u001b[38;5;28mprint\u001b[39m(email)\n",
      "\u001b[1;31mTypeError\u001b[0m: 'NoneType' object is not iterable"
     ]
    }
   ],
   "source": [
    "# Sample text-10\n",
    "import re\n",
    "\n",
    "def extract_emails_from_file(file_path):\n",
    "    try:\n",
    "        with open(file_path, \"r\") as file:\n",
    "            text = file.read()\n",
    "            \n",
    "            email_pattern = re.compile(r'\\b[A-Za-z0-9._%+-]+@[A-Za-z0-9.-]+\\.[A-Z|a-z]{2,7}\\b')\n",
    "            \n",
    "            emails = email_pattern.findall(text)\n",
    "            \n",
    "            return emails\n",
    "\n",
    "    except FileNotFoundError:\n",
    "        print(f\"File '{file_path}' not found.\")\n",
    "    except Exception as e:\n",
    "        print(\"An error occurred:\", str(e))\n",
    "\n",
    "\n",
    "file_path = \"sample_text.txt\"\n",
    "\n",
    "\n",
    "extracted_emails = extract_emails_from_file(file_path)\n",
    "print(\"Extracted email addresses:\")\n",
    "for email in extracted_emails:\n",
    "    print(email)\n"
   ]
  },
  {
   "cell_type": "code",
   "execution_count": 56,
   "id": "e2619e2a",
   "metadata": {},
   "outputs": [
    {
     "name": "stdout",
     "output_type": "stream",
     "text": [
      "'Hello123' is a valid string.\n",
      "'Good_Morning' is a valid string.\n",
      "'123_456' is a valid string.\n",
      "'Not Valid!' is not a valid string.\n",
      "'spaces not valid' is not a valid string.\n"
     ]
    }
   ],
   "source": [
    "# Sample text-11\n",
    "import re\n",
    "\n",
    "def is_valid_string(input_string):\n",
    "  \n",
    "    pattern = re.compile(r'^[a-zA-Z0-9_]+$')\n",
    "    if pattern.match(input_string):\n",
    "        return True\n",
    "    else:\n",
    "        return False\n",
    "\n",
    "test_strings = [\"Hello123\", \"Good_Morning\", \"123_456\", \"Not Valid!\", \"spaces not valid\"]\n",
    "\n",
    "for test_string in test_strings:\n",
    "    if is_valid_string(test_string):\n",
    "        print(f\"'{test_string}' is a valid string.\")\n",
    "    else:\n",
    "        print(f\"'{test_string}' is not a valid string.\")\n"
   ]
  },
  {
   "cell_type": "code",
   "execution_count": 57,
   "id": "e25830bc",
   "metadata": {},
   "outputs": [
    {
     "name": "stdout",
     "output_type": "stream",
     "text": [
      "'12345Hello' starts with 123.\n",
      "'4567World' does not start with 123.\n",
      "'Hello123' does not start with 123.\n",
      "'123abc' starts with 123.\n",
      "'abc123' does not start with 123.\n"
     ]
    }
   ],
   "source": [
    "# Sample text-12\n",
    "def starts_with_number(input_string, number):\n",
    "    # Convert the number to a string for comparison\n",
    "    number_str = str(number)\n",
    "    \n",
    "    if input_string.startswith(number_str):\n",
    "        return True\n",
    "    else:\n",
    "        return False\n",
    "test_strings = [\"12345Hello\", \"4567World\", \"Hello123\", \"123abc\", \"abc123\"]\n",
    "\n",
    "specific_number = 123\n",
    "\n",
    "for test_string in test_strings:\n",
    "    if starts_with_number(test_string, specific_number):\n",
    "        print(f\"'{test_string}' starts with {specific_number}.\")\n",
    "    else:\n",
    "        print(f\"'{test_string}' does not start with {specific_number}.\")\n"
   ]
  },
  {
   "cell_type": "code",
   "execution_count": 58,
   "id": "ae8a1cac",
   "metadata": {},
   "outputs": [
    {
     "name": "stdout",
     "output_type": "stream",
     "text": [
      "Original IP: 192.001.002.003, Cleaned IP: 192.1.2.3\n",
      "Original IP: 10.0.01.05, Cleaned IP: 10.0.1.5\n",
      "Original IP: 001.002.003.004, Cleaned IP: 1.2.3.4\n"
     ]
    }
   ],
   "source": [
    "# Sample text-13\n",
    "def remove_leading_zeros(ip_address):\n",
    "    # Split the IP address into octets\n",
    "    octets = ip_address.split('.')\n",
    "    cleaned_octets = []\n",
    "    for octet in octets:\n",
    "      \n",
    "        cleaned_octets.append(str(int(octet)))\n",
    "    cleaned_ip = '.'.join(cleaned_octets)\n",
    "    \n",
    "    return cleaned_ip\n",
    "\n",
    "ip_addresses = [\"192.001.002.003\", \"10.0.01.05\", \"001.002.003.004\"]\n",
    "\n",
    "for ip_address in ip_addresses:\n",
    "    cleaned_ip = remove_leading_zeros(ip_address)\n",
    "    print(f\"Original IP: {ip_address}, Cleaned IP: {cleaned_ip}\")\n"
   ]
  },
  {
   "cell_type": "code",
   "execution_count": 59,
   "id": "277d837d",
   "metadata": {},
   "outputs": [
    {
     "name": "stdout",
     "output_type": "stream",
     "text": [
      "Found date strings:\n",
      "August 15th 1947\n"
     ]
    }
   ],
   "source": [
    "# Sample text-14\n",
    "import re\n",
    "\n",
    "def find_dates_in_text(text):\n",
    "   \n",
    "    date_pattern = re.compile(r'(?:January|February|March|April|May|June|July|August|September|October|November|December)\\s+\\d{1,2}(?:st|nd|rd|th)?\\s+\\d{4}')\n",
    "    \n",
    "    dates = date_pattern.findall(text)\n",
    "    \n",
    "    return dates\n",
    "\n",
    "sample_text = \"On August 15th 1947 that India was declared independent from British colonialism, and the reins of control were handed over to the leaders of the Country.\"\n",
    "\n",
    "found_dates = find_dates_in_text(sample_text)\n",
    "print(\"Found date strings:\")\n",
    "for date in found_dates:\n",
    "    print(date)\n"
   ]
  },
  {
   "cell_type": "code",
   "execution_count": 60,
   "id": "4a058c5c",
   "metadata": {},
   "outputs": [
    {
     "name": "stdout",
     "output_type": "stream",
     "text": [
      "'quick' found at index 4\n",
      "'fox' found at index 16\n",
      "'lazy' found at index 35\n"
     ]
    }
   ],
   "source": [
    "# Sample text-15\n",
    "def search_literals(text, literals):\n",
    "    results = {}\n",
    "    for literal in literals:\n",
    "        index = text.find(literal)\n",
    "        if index != -1:\n",
    "            results[literal] = index\n",
    "    return results\n",
    "\n",
    "sample_text = 'The quick brown fox jumps over the lazy dog.'\n",
    "search_strings = ['quick', 'fox', 'lazy', 'elephant']\n",
    "found_strings = search_literals(sample_text, search_strings)\n",
    "for literal, index in found_strings.items():\n",
    "    print(f\"'{literal}' found at index {index}\")\n"
   ]
  },
  {
   "cell_type": "code",
   "execution_count": 25,
   "id": "aa555a50",
   "metadata": {},
   "outputs": [
    {
     "name": "stdout",
     "output_type": "stream",
     "text": [
      "'fox' found at index 16 in the text.\n"
     ]
    }
   ],
   "source": [
    "# Sample text-16\n",
    "\n",
    "def search_literal(text, pattern):\n",
    "    index = text.find(pattern)\n",
    "    return index\n",
    "\n",
    "# Sample textsample_text = 'The quick brown fox jumps over the lazy dog.'\n",
    "\n",
    "# Literal string to search for\n",
    "search_string = 'fox'\n",
    "index = search_literal(sample_text, search_string)\n",
    "\n",
    "if index != -1:\n",
    "    print(f\"'{search_string}' found at index {index} in the text.\")\n",
    "else:\n",
    "    print(f\"'{search_string}' not found in the text.\")\n"
   ]
  },
  {
   "cell_type": "code",
   "execution_count": 61,
   "id": "f9192cf7",
   "metadata": {},
   "outputs": [
    {
     "name": "stdout",
     "output_type": "stream",
     "text": [
      "'exercises' found at the following positions:\n",
      "Start: 7, End: 16\n",
      "Start: 22, End: 31\n",
      "Start: 36, End: 45\n"
     ]
    }
   ],
   "source": [
    "# Sample text-17\n",
    "\n",
    "\n",
    "def find_substrings(text, substring):\n",
    "    start = 0\n",
    "    results = []\n",
    "    \n",
    "    while start < len(text):\n",
    "        index = text.find(substring, start)\n",
    "        if index == -1:\n",
    "            break\n",
    "        results.append((index, index + len(substring)))\n",
    "        start = index + 1\n",
    "    \n",
    "    return results\n",
    "sample_text = 'Python exercises, PHP exercises, C# exercises'\n",
    "substring = 'exercises'\n",
    "occurrences = find_substrings(sample_text, substring)\n",
    "\n",
    "if occurrences:\n",
    "    print(f\"'{substring}' found at the following positions:\")\n",
    "    for start, end in occurrences:\n",
    "        print(f\"Start: {start}, End: {end}\")\n",
    "else:\n",
    "    print(f\"'{substring}' not found in the text.\")\n"
   ]
  },
  {
   "cell_type": "code",
   "execution_count": 62,
   "id": "50adff1d",
   "metadata": {},
   "outputs": [
    {
     "name": "stdout",
     "output_type": "stream",
     "text": [
      "'exercises' found at the following positions:\n",
      "Occurrence 1: Start: 7, End: 16\n",
      "Occurrence 2: Start: 22, End: 31\n",
      "Occurrence 3: Start: 36, End: 45\n"
     ]
    }
   ],
   "source": [
    "# Sample text-18\n",
    "def find_substring_occurrences(text, substring):\n",
    "    start = 0\n",
    "    occurrences = []\n",
    "    \n",
    "    while start < len(text):\n",
    "        index = text.find(substring, start)\n",
    "        if index == -1:\n",
    "            break\n",
    "        occurrences.append((index, index + len(substring)))\n",
    "        start = index + 1\n",
    "    \n",
    "    return occurrences\n",
    "\n",
    "def main():\n",
    "\n",
    "    sample_text = 'Python exercises, PHP exercises, C# exercises'\n",
    "\n",
    "    \n",
    "    substring = 'exercises'\n",
    "    occurrences = find_substring_occurrences(sample_text, substring)\n",
    "\n",
    "    if occurrences:\n",
    "        print(f\"'{substring}' found at the following positions:\")\n",
    "        for i, (start, end) in enumerate(occurrences, 1):\n",
    "            print(f\"Occurrence {i}: Start: {start}, End: {end}\")\n",
    "    else:\n",
    "        print(f\"'{substring}' not found in the text.\")\n",
    "\n",
    "if __name__ == \"__main__\":\n",
    "    main()"
   ]
  },
  {
   "cell_type": "code",
   "execution_count": 63,
   "id": "acade6dc",
   "metadata": {},
   "outputs": [
    {
     "name": "stdout",
     "output_type": "stream",
     "text": [
      "Original Date: 2023-10-08\n",
      "New Date Format: 08-10-2023\n"
     ]
    }
   ],
   "source": [
    "# Sample text-19\n",
    "\n",
    "from datetime import datetime\n",
    "\n",
    "def convert_date(date_str):\n",
    "   \n",
    "    original_date = datetime.strptime(date_str, '%Y-%m-%d')\n",
    "    new_date_format = original_date.strftime('%d-%m-%Y')\n",
    "    \n",
    "    return new_date_format\n",
    "date_input = \"2023-10-08\"\n",
    "new_date_format = convert_date(date_input)\n",
    "print(f\"Original Date: {date_input}\")\n",
    "print(f\"New Date Format: {new_date_format}\")\n"
   ]
  },
  {
   "cell_type": "code",
   "execution_count": 64,
   "id": "f2404d22",
   "metadata": {},
   "outputs": [
    {
     "name": "stdout",
     "output_type": "stream",
     "text": [
      "Found decimal numbers:\n",
      "01.12\n",
      "145.8\n",
      "3.01\n",
      "27.25\n",
      "0.25\n"
     ]
    }
   ],
   "source": [
    "# Sample text-20\n",
    "import re\n",
    "\n",
    "def find_decimal_numbers(text):\n",
    "    pattern = re.compile(r'\\b\\d+\\.\\d{1,2}\\b')\n",
    "    decimal_numbers = pattern.findall(text)\n",
    "    \n",
    "    return decimal_numbers\n",
    "sample_text = \"01.12 0132.123 2.31875 145.8 3.01 27.25 0.25\"\n",
    "found_decimal_numbers = find_decimal_numbers(sample_text)\n",
    "print(\"Found decimal numbers:\")\n",
    "for number in found_decimal_numbers:\n",
    "    print(number)\n"
   ]
  },
  {
   "cell_type": "code",
   "execution_count": 65,
   "id": "4fcb7e0a",
   "metadata": {},
   "outputs": [
    {
     "name": "stdout",
     "output_type": "stream",
     "text": [
      "Number: 19.99, Position: 29\n",
      "Number: 9.99, Position: 30\n",
      "Number: 99, Position: 32\n",
      "Number: 9, Position: 33\n",
      "Number: 15, Position: 56\n",
      "Number: 5, Position: 57\n"
     ]
    }
   ],
   "source": [
    "# Sample text-21\n",
    "def separate_and_print_numbers(text):\n",
    "    numbers = []  # List to store numbers found\n",
    "    positions = []  # List to store positions of numbers\n",
    "\n",
    "    for i, char in enumerate(text):\n",
    "        if char.isdigit():\n",
    "            number_start = i\n",
    "            while i < len(text) and (text[i].isdigit() or text[i] == '.'):\n",
    "                i += 1\n",
    "            number_end = i\n",
    "            numbers.append(text[number_start:number_end])\n",
    "            positions.append(number_start)\n",
    "\n",
    "    for number, position in zip(numbers, positions):\n",
    "        print(f\"Number: {number}, Position: {position}\")\n",
    "\n",
    "# Sample text\n",
    "sample_text = \"The price of the product is $19.99, and the discount is 15%.\"\n",
    "separate_and_print_numbers(sample_text)\n",
    "\n",
    "\n"
   ]
  },
  {
   "cell_type": "code",
   "execution_count": 66,
   "id": "1c90dde0",
   "metadata": {},
   "outputs": [
    {
     "name": "stdout",
     "output_type": "stream",
     "text": [
      "The largest numeric value is: 0.99\n"
     ]
    }
   ],
   "source": [
    "# Sample text-22\n",
    "\n",
    "import re\n",
    "\n",
    "def extract_largest_numeric_value(text):\n",
    "    # Define a regular expression pattern to match numeric values\n",
    "    numeric_pattern = re.compile(r'-?\\d+(\\.\\d+)?')\n",
    "    \n",
    "    numeric_values = numeric_pattern.findall(text)\n",
    "    \n",
    "    if numeric_values:\n",
    "        numeric_values = [float(value) for value in numeric_values]\n",
    "        largest_value = max(numeric_values)\n",
    "        return largest_value\n",
    "    else:\n",
    "        return None\n",
    "\n",
    "# Sample text\n",
    "sample_text = \"The prices are $19.99, $25.50, and $15.75.\"\n",
    "largest_numeric_value = extract_largest_numeric_value(sample_text)\n",
    "\n",
    "if largest_numeric_value is not None:\n",
    "    print(f\"The largest numeric value is: {largest_numeric_value}\")\n",
    "else:\n",
    "    print(\"No numeric values found in the text.\")\n"
   ]
  },
  {
   "cell_type": "code",
   "execution_count": 68,
   "id": "2b5d01e6",
   "metadata": {},
   "outputs": [
    {
     "ename": "IndentationError",
     "evalue": "unindent does not match any outer indentation level (<tokenize>, line 12)",
     "output_type": "error",
     "traceback": [
      "\u001b[1;36m  File \u001b[1;32m<tokenize>:12\u001b[1;36m\u001b[0m\n\u001b[1;33m    largest_value = max(numeric_values)\u001b[0m\n\u001b[1;37m    ^\u001b[0m\n\u001b[1;31mIndentationError\u001b[0m\u001b[1;31m:\u001b[0m unindent does not match any outer indentation level\n"
     ]
    }
   ],
   "source": [
    "# Sample text-23\n",
    "\n",
    "import re\n",
    "\n",
    "def extract_largest_numeric_value(text):\n",
    "    # Define a regular expression pattern to match numeric values\n",
    "    numeric_pattern = re.compile(r'\\b\\d+\\b')\n",
    "    numeric_values = numeric_pattern.findall(text)\n",
    "    \n",
    "    if numeric_values:\n",
    "         numeric_values = [int(value) for value in numeric_values]\n",
    "        largest_value = max(numeric_values)\n",
    "        return largest_value\n",
    "    else:\n",
    "        return None\n",
    "\n",
    "# Sample text\n",
    "sample_text = 'My marks in each semester are: 947, 896, 926, 524, 734, 950, 642'\n",
    "\n",
    "largest_numeric_value = extract_largest_numeric_value(sample_text)\n",
    "\n",
    "if largest_numeric_value is not None:\n",
    "    print(f\"The largest numeric value is: {largest_numeric_value}\")\n",
    "else:\n",
    "    print(\"No numeric values found in the text.\")\n",
    "\n"
   ]
  },
  {
   "cell_type": "code",
   "execution_count": 69,
   "id": "5517341a",
   "metadata": {},
   "outputs": [
    {
     "name": "stdout",
     "output_type": "stream",
     "text": [
      "Modified Text:\n",
      "Regular expression is an important topic in python\n"
     ]
    }
   ],
   "source": [
    "# Sample text-23\n",
    "import re\n",
    "\n",
    "def insert_spaces_between_capital_words(text):\n",
    "   \n",
    "    modified_text = re.sub(r'([a-z])([A-Z])', r'\\1 \\2', text)\n",
    "    modified_text = modified_text.capitalize()\n",
    "    \n",
    "    return modified_text\n",
    "\n",
    "sample_text = \"RegularExpressionIsAnImportantTopicInPython\"\n",
    "result = insert_spaces_between_capital_words(sample_text)\n",
    "print(\"Modified Text:\")\n",
    "print(result)\n"
   ]
  },
  {
   "cell_type": "code",
   "execution_count": 70,
   "id": "3b34869e",
   "metadata": {},
   "outputs": [
    {
     "name": "stdout",
     "output_type": "stream",
     "text": [
      "['This', 'Example', 'Some', 'Case', 'Another', 'Example']\n"
     ]
    }
   ],
   "source": [
    "# Sample text-24\n",
    "\n",
    "import re\n",
    "\n",
    "text = \"This is an Example with Some UPPERCase words and Another Example.\"\n",
    "\n",
    "pattern = r'[A-Z][a-z]+'\n",
    "matches = re.findall(pattern, text)\n",
    "\n",
    "# Print the matches\n",
    "print(matches)\n",
    "\n"
   ]
  },
  {
   "cell_type": "code",
   "execution_count": 71,
   "id": "39748fa9",
   "metadata": {},
   "outputs": [
    {
     "name": "stdout",
     "output_type": "stream",
     "text": [
      "Modified Text:\n",
      "Hello world\n"
     ]
    }
   ],
   "source": [
    "# Sample text-25\n",
    "\n",
    "\n",
    "import re\n",
    "\n",
    "def remove_continuous_duplicates(text):\n",
    "    # Use regular expression to find continuous duplicate words\n",
    "    pattern = r'\\b(\\w+)(\\s+\\1)+\\b'\n",
    "    modified_text = re.sub(pattern, r'\\1', text, flags=re.IGNORECASE)\n",
    "    \n",
    "    return modified_text\n",
    "\n",
    "sample_text = \"Hello hello world world\"\n",
    "result = remove_continuous_duplicates(sample_text)\n",
    "print(\"Modified Text:\")\n",
    "print(result)\n"
   ]
  },
  {
   "cell_type": "code",
   "execution_count": 72,
   "id": "cfd7bfe5",
   "metadata": {},
   "outputs": [
    {
     "ename": "KeyboardInterrupt",
     "evalue": "Interrupted by user",
     "output_type": "error",
     "traceback": [
      "\u001b[1;31m---------------------------------------------------------------------------\u001b[0m",
      "\u001b[1;31mKeyboardInterrupt\u001b[0m                         Traceback (most recent call last)",
      "Input \u001b[1;32mIn [72]\u001b[0m, in \u001b[0;36m<cell line: 13>\u001b[1;34m()\u001b[0m\n\u001b[0;32m     11\u001b[0m     \u001b[38;5;28;01melse\u001b[39;00m:\n\u001b[0;32m     12\u001b[0m         \u001b[38;5;28;01mreturn\u001b[39;00m \u001b[38;5;28;01mFalse\u001b[39;00m\n\u001b[1;32m---> 13\u001b[0m input_string \u001b[38;5;241m=\u001b[39m \u001b[38;5;28;43minput\u001b[39;49m\u001b[43m(\u001b[49m\u001b[38;5;124;43m\"\u001b[39;49m\u001b[38;5;124;43mEnter a string: \u001b[39;49m\u001b[38;5;124;43m\"\u001b[39;49m\u001b[43m)\u001b[49m\n\u001b[0;32m     15\u001b[0m \u001b[38;5;28;01mif\u001b[39;00m is_valid_string(input_string):\n\u001b[0;32m     16\u001b[0m     \u001b[38;5;28mprint\u001b[39m(\u001b[38;5;124m\"\u001b[39m\u001b[38;5;124mThe string ends with an alphanumeric character.\u001b[39m\u001b[38;5;124m\"\u001b[39m)\n",
      "File \u001b[1;32m~\\anaconda3\\lib\\site-packages\\ipykernel\\kernelbase.py:1075\u001b[0m, in \u001b[0;36mKernel.raw_input\u001b[1;34m(self, prompt)\u001b[0m\n\u001b[0;32m   1071\u001b[0m \u001b[38;5;28;01mif\u001b[39;00m \u001b[38;5;129;01mnot\u001b[39;00m \u001b[38;5;28mself\u001b[39m\u001b[38;5;241m.\u001b[39m_allow_stdin:\n\u001b[0;32m   1072\u001b[0m     \u001b[38;5;28;01mraise\u001b[39;00m StdinNotImplementedError(\n\u001b[0;32m   1073\u001b[0m         \u001b[38;5;124m\"\u001b[39m\u001b[38;5;124mraw_input was called, but this frontend does not support input requests.\u001b[39m\u001b[38;5;124m\"\u001b[39m\n\u001b[0;32m   1074\u001b[0m     )\n\u001b[1;32m-> 1075\u001b[0m \u001b[38;5;28;01mreturn\u001b[39;00m \u001b[38;5;28;43mself\u001b[39;49m\u001b[38;5;241;43m.\u001b[39;49m\u001b[43m_input_request\u001b[49m\u001b[43m(\u001b[49m\n\u001b[0;32m   1076\u001b[0m \u001b[43m    \u001b[49m\u001b[38;5;28;43mstr\u001b[39;49m\u001b[43m(\u001b[49m\u001b[43mprompt\u001b[49m\u001b[43m)\u001b[49m\u001b[43m,\u001b[49m\n\u001b[0;32m   1077\u001b[0m \u001b[43m    \u001b[49m\u001b[38;5;28;43mself\u001b[39;49m\u001b[38;5;241;43m.\u001b[39;49m\u001b[43m_parent_ident\u001b[49m\u001b[43m[\u001b[49m\u001b[38;5;124;43m\"\u001b[39;49m\u001b[38;5;124;43mshell\u001b[39;49m\u001b[38;5;124;43m\"\u001b[39;49m\u001b[43m]\u001b[49m\u001b[43m,\u001b[49m\n\u001b[0;32m   1078\u001b[0m \u001b[43m    \u001b[49m\u001b[38;5;28;43mself\u001b[39;49m\u001b[38;5;241;43m.\u001b[39;49m\u001b[43mget_parent\u001b[49m\u001b[43m(\u001b[49m\u001b[38;5;124;43m\"\u001b[39;49m\u001b[38;5;124;43mshell\u001b[39;49m\u001b[38;5;124;43m\"\u001b[39;49m\u001b[43m)\u001b[49m\u001b[43m,\u001b[49m\n\u001b[0;32m   1079\u001b[0m \u001b[43m    \u001b[49m\u001b[43mpassword\u001b[49m\u001b[38;5;241;43m=\u001b[39;49m\u001b[38;5;28;43;01mFalse\u001b[39;49;00m\u001b[43m,\u001b[49m\n\u001b[0;32m   1080\u001b[0m \u001b[43m\u001b[49m\u001b[43m)\u001b[49m\n",
      "File \u001b[1;32m~\\anaconda3\\lib\\site-packages\\ipykernel\\kernelbase.py:1120\u001b[0m, in \u001b[0;36mKernel._input_request\u001b[1;34m(self, prompt, ident, parent, password)\u001b[0m\n\u001b[0;32m   1117\u001b[0m             \u001b[38;5;28;01mbreak\u001b[39;00m\n\u001b[0;32m   1118\u001b[0m \u001b[38;5;28;01mexcept\u001b[39;00m \u001b[38;5;167;01mKeyboardInterrupt\u001b[39;00m:\n\u001b[0;32m   1119\u001b[0m     \u001b[38;5;66;03m# re-raise KeyboardInterrupt, to truncate traceback\u001b[39;00m\n\u001b[1;32m-> 1120\u001b[0m     \u001b[38;5;28;01mraise\u001b[39;00m \u001b[38;5;167;01mKeyboardInterrupt\u001b[39;00m(\u001b[38;5;124m\"\u001b[39m\u001b[38;5;124mInterrupted by user\u001b[39m\u001b[38;5;124m\"\u001b[39m) \u001b[38;5;28;01mfrom\u001b[39;00m \u001b[38;5;28mNone\u001b[39m\n\u001b[0;32m   1121\u001b[0m \u001b[38;5;28;01mexcept\u001b[39;00m \u001b[38;5;167;01mException\u001b[39;00m:\n\u001b[0;32m   1122\u001b[0m     \u001b[38;5;28mself\u001b[39m\u001b[38;5;241m.\u001b[39mlog\u001b[38;5;241m.\u001b[39mwarning(\u001b[38;5;124m\"\u001b[39m\u001b[38;5;124mInvalid Message:\u001b[39m\u001b[38;5;124m\"\u001b[39m, exc_info\u001b[38;5;241m=\u001b[39m\u001b[38;5;28;01mTrue\u001b[39;00m)\n",
      "\u001b[1;31mKeyboardInterrupt\u001b[0m: Interrupted by user"
     ]
    }
   ],
   "source": [
    "# Sample text-26\n",
    "\n",
    "\n",
    "import re\n",
    "\n",
    "def is_valid_string(input_string):\n",
    "    pattern = r'^.*[a-zA-Z0-9]$'\n",
    "    \n",
    "    if re.search(pattern, input_string):\n",
    "        return True\n",
    "    else:\n",
    "        return False\n",
    "input_string = input(\"Enter a string: \")\n",
    "\n",
    "if is_valid_string(input_string):\n",
    "    print(\"The string ends with an alphanumeric character.\")\n",
    "else:\n",
    "    print(\"The string does not end with an alphanumeric character.\")\n"
   ]
  },
  {
   "cell_type": "code",
   "execution_count": null,
   "id": "cc93b01f",
   "metadata": {},
   "outputs": [],
   "source": [
    "# Sample text-27\n",
    "\n",
    "import re\n",
    "\n",
    "def extract_hashtags(text):\n",
    "    # Define a regular expression pattern to match hashtags\n",
    "    pattern = r'#\\w+'\n",
    "    \n",
    "    # Use the findall method to find all matching hashtags in the text\n",
    "    hashtags = re.findall(pattern, text)\n",
    "    \n",
    "    return hashtags\n",
    "sample_text = \"\"\"RT @kapil_kausik: #Doltiwal I mean #xyzabc is \"hurt\" by #Demonetization as the same has rendered USELESS <ed><U+00A0><U+00BD><ed><U+00B1><U+0089> \"acquired funds\" No wo\"\"\"\n",
    "\n",
    "found_hashtags = extract_hashtags(sample_text)\n",
    "print(\"Extracted Hashtags:\")\n",
    "for hashtag in found_hashtags:\n",
    "    print(hashtag)\n",
    "\n",
    "\n"
   ]
  },
  {
   "cell_type": "code",
   "execution_count": 42,
   "id": "dda94eaa",
   "metadata": {},
   "outputs": [
    {
     "name": "stdout",
     "output_type": "stream",
     "text": [
      "Modified Text:\n",
      "@Jags123456 Bharat band on 28??<ed><ed>Those who  are protesting #demonetization  are all different party leaders\n"
     ]
    }
   ],
   "source": [
    "# Sample text-28\n",
    "\n",
    "import re\n",
    "\n",
    "def remove_u_plus_symbols(text):\n",
    "    # Define a regular expression pattern to match <U+..> like symbols\n",
    "    pattern = r'<U\\+[0-9A-Fa-f]+>'\n",
    "    \n",
    "    # Use the sub method to replace the matched symbols with an empty string\n",
    "    modified_text = re.sub(pattern, '', text)\n",
    "    \n",
    "    return modified_text\n",
    "\n",
    "# Sample text\n",
    "sample_text = \"@Jags123456 Bharat band on 28??<ed><U+00A0><U+00BD><ed><U+00B8><U+0082>Those who  are protesting #demonetization  are all different party leaders\"\n",
    "\n",
    "# Remove <U+..> like symbols from the text\n",
    "result = remove_u_plus_symbols(sample_text)\n",
    "\n",
    "# Print the modified text\n",
    "print(\"Modified Text:\")\n",
    "print(result)\n"
   ]
  },
  {
   "cell_type": "code",
   "execution_count": 2,
   "id": "01c3db36",
   "metadata": {},
   "outputs": [
    {
     "ename": "FileNotFoundError",
     "evalue": "[Errno 2] No such file or directory: 'sample_text.txt'",
     "output_type": "error",
     "traceback": [
      "\u001b[1;31m---------------------------------------------------------------------------\u001b[0m",
      "\u001b[1;31mFileNotFoundError\u001b[0m                         Traceback (most recent call last)",
      "Input \u001b[1;32mIn [2]\u001b[0m, in \u001b[0;36m<cell line: 11>\u001b[1;34m()\u001b[0m\n\u001b[0;32m      8\u001b[0m     dates \u001b[38;5;241m=\u001b[39m re\u001b[38;5;241m.\u001b[39mfindall(pattern, text)\n\u001b[0;32m     10\u001b[0m     \u001b[38;5;28;01mreturn\u001b[39;00m dates\n\u001b[1;32m---> 11\u001b[0m \u001b[38;5;28;01mwith\u001b[39;00m \u001b[38;5;28;43mopen\u001b[39;49m\u001b[43m(\u001b[49m\u001b[38;5;124;43m'\u001b[39;49m\u001b[38;5;124;43msample_text.txt\u001b[39;49m\u001b[38;5;124;43m'\u001b[39;49m\u001b[43m,\u001b[49m\u001b[43m \u001b[49m\u001b[38;5;124;43m'\u001b[39;49m\u001b[38;5;124;43mr\u001b[39;49m\u001b[38;5;124;43m'\u001b[39;49m\u001b[43m)\u001b[49m \u001b[38;5;28;01mas\u001b[39;00m file:\n\u001b[0;32m     12\u001b[0m     text \u001b[38;5;241m=\u001b[39m file\u001b[38;5;241m.\u001b[39mread()\n\u001b[0;32m     13\u001b[0m found_dates \u001b[38;5;241m=\u001b[39m extract_dates_from_text(text)\n",
      "\u001b[1;31mFileNotFoundError\u001b[0m: [Errno 2] No such file or directory: 'sample_text.txt'"
     ]
    }
   ],
   "source": [
    "# Sample text-29\n",
    "\n",
    "import re\n",
    "\n",
    "def extract_dates_from_text(text):\n",
    "    # Define a regular expression pattern to match dates in the format DD-MM-YYYY\n",
    "    pattern = r'\\d{2}-\\d{2}-\\d{4}'\n",
    "    dates = re.findall(pattern, text)\n",
    "    \n",
    "    return dates\n",
    "with open('sample_text.txt', 'r') as file:\n",
    "    text = file.read()\n",
    "found_dates = extract_dates_from_text(text)\n",
    "print(\"Extracted Dates:\")\n",
    "for date in found_dates:\n",
    "    print(date)\n"
   ]
  },
  {
   "cell_type": "code",
   "execution_count": 1,
   "id": "ace13e81",
   "metadata": {},
   "outputs": [
    {
     "name": "stdout",
     "output_type": "stream",
     "text": [
      "Modified Text:\n",
      " following example creates  ArrayList  a capacity   elements. 4 elements   added   ArrayList   ArrayList  trimmed accordingly.\n"
     ]
    }
   ],
   "source": [
    "# Sample text-30\n",
    "\n",
    "\n",
    "import re\n",
    "\n",
    "def remove_words_with_length_between_2_and_4(text):\n",
    "    # Define a regular expression pattern to match words with length between 2 and 4\n",
    "    pattern = re.compile(r'\\b\\w{2,4}\\b')\n",
    "    \n",
    "    # Use the sub method to replace the matched words with an empty string\n",
    "    modified_text = pattern.sub('', text)\n",
    "    \n",
    "    return modified_text\n",
    "\n",
    "# Sample text\n",
    "sample_text = \"The following example creates an ArrayList with a capacity of 50 elements. 4 elements are then added to the ArrayList and the ArrayList is trimmed accordingly.\"\n",
    "\n",
    "# Remove words with length between 2 and 4 from the text\n",
    "result = remove_words_with_length_between_2_and_4(sample_text)\n",
    "\n",
    "# Print the modified text\n",
    "print(\"Modified Text:\")\n",
    "print(result)\n",
    "\n"
   ]
  },
  {
   "cell_type": "code",
   "execution_count": null,
   "id": "f73da2b6",
   "metadata": {},
   "outputs": [],
   "source": []
  },
  {
   "cell_type": "code",
   "execution_count": null,
   "id": "1de67071",
   "metadata": {},
   "outputs": [],
   "source": []
  },
  {
   "cell_type": "code",
   "execution_count": null,
   "id": "e4751863",
   "metadata": {},
   "outputs": [],
   "source": []
  },
  {
   "cell_type": "code",
   "execution_count": null,
   "id": "e5a18da5",
   "metadata": {},
   "outputs": [],
   "source": []
  }
 ],
 "metadata": {
  "kernelspec": {
   "display_name": "Python 3 (ipykernel)",
   "language": "python",
   "name": "python3"
  },
  "language_info": {
   "codemirror_mode": {
    "name": "ipython",
    "version": 3
   },
   "file_extension": ".py",
   "mimetype": "text/x-python",
   "name": "python",
   "nbconvert_exporter": "python",
   "pygments_lexer": "ipython3",
   "version": "3.9.12"
  }
 },
 "nbformat": 4,
 "nbformat_minor": 5
}
